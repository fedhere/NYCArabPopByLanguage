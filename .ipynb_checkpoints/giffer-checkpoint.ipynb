{
 "cells": [
  {
   "cell_type": "code",
   "execution_count": 1,
   "metadata": {
    "ExecuteTime": {
     "end_time": "2017-02-25T17:51:45.762291",
     "start_time": "2017-02-25T17:51:44.687809"
    },
    "collapsed": false,
    "run_control": {
     "frozen": false,
     "read_only": false
    }
   },
   "outputs": [],
   "source": [
    "import pylab as pl\n",
    "from scipy import misc\n"
   ]
  },
  {
   "cell_type": "code",
   "execution_count": 2,
   "metadata": {
    "ExecuteTime": {
     "end_time": "2017-02-25T17:52:02.324302",
     "start_time": "2017-02-25T17:52:01.875496"
    },
    "collapsed": true,
    "run_control": {
     "frozen": false,
     "read_only": false
    }
   },
   "outputs": [],
   "source": [
    "\n",
    "image1 = misc.imread(\"ArabByLanguage10.png\")/255.\n",
    "image2 = misc.imread(\"ArabByLanguage15.png\")/255.\n",
    " "
   ]
  },
  {
   "cell_type": "code",
   "execution_count": null,
   "metadata": {
    "ExecuteTime": {
     "start_time": "2017-02-25T22:52:03.291Z"
    },
    "collapsed": false,
    "scrolled": false
   },
   "outputs": [
    {
     "name": "stderr",
     "output_type": "stream",
     "text": [
      "//anaconda/lib/python2.7/site-packages/matplotlib-2.0.0+3158.g7b79174-py2.7-macosx-10.6-x86_64.egg/matplotlib/pyplot.py:523: RuntimeWarning: More than 20 figures have been opened. Figures created through the pyplot interface (`matplotlib.pyplot.figure`) are retained until explicitly closed and may consume too much memory. (To control this warning, see the rcParam `figure.max_open_warning`).\n",
      "  max_open_warning, RuntimeWarning)\n"
     ]
    }
   ],
   "source": [
    "for i in range (0,101):\n",
    "    ax = pl.figure(figsize=(20,20)).add_subplot(111)\n",
    "    pl.imshow(image2 * (i/100.) + image1 * ((100 - i)/100.))    \n",
    "    ax.axis('off')\n",
    "    pl.savefig(\"forgif/Atimeline%03d.png\"%i)"
   ]
  },
  {
   "cell_type": "code",
   "execution_count": null,
   "metadata": {
    "ExecuteTime": {
     "start_time": "2017-02-25T22:52:09.224Z"
    },
    "collapsed": false,
    "scrolled": false
   },
   "outputs": [],
   "source": [
    "image1 = misc.imread(\"ArabCountByLanguage10.png\")/255.\n",
    "image2 = misc.imread(\"ArabCountByLanguage15.png\")/255.\n",
    "for i in range (0,101):\n",
    "    ax = pl.figure(figsize=(20,20)).add_subplot(111)\n",
    "    pl.imshow(image2 * (i/100.) + image1 * ((100 - i)/100.))    \n",
    "    ax.axis('off')\n",
    "    pl.savefig(\"forgif/AtimelineCount%03d.png\"%i)"
   ]
  },
  {
   "cell_type": "code",
   "execution_count": null,
   "metadata": {
    "ExecuteTime": {
     "start_time": "2017-02-25T22:52:13.222Z"
    },
    "collapsed": false
   },
   "outputs": [],
   "source": [
    "image1 = misc.imread(\"fraction4Languages10.png\")/255.\n",
    "image2 = misc.imread(\"fraction4Languages15.png\")/255.\n",
    "for i in range (0,101):\n",
    "    ax = pl.figure(figsize=(20,20)).add_subplot(111)\n",
    "    pl.imshow(image2 * (i/100.) + image1 * ((100 - i)/100.))    \n",
    "    ax.axis('off')\n",
    "    pl.savefig(\"forgif/fracton4Lang%03d.png\"%i)"
   ]
  },
  {
   "cell_type": "code",
   "execution_count": null,
   "metadata": {
    "collapsed": true
   },
   "outputs": [],
   "source": []
  }
 ],
 "metadata": {
  "kernelspec": {
   "display_name": "Python [default]",
   "language": "python",
   "name": "python2"
  },
  "language_info": {
   "codemirror_mode": {
    "name": "ipython",
    "version": 2
   },
   "file_extension": ".py",
   "mimetype": "text/x-python",
   "name": "python",
   "nbconvert_exporter": "python",
   "pygments_lexer": "ipython2",
   "version": "2.7.12"
  },
  "toc": {
   "colors": {
    "hover_highlight": "#DAA520",
    "running_highlight": "#FF0000",
    "selected_highlight": "#FFD700"
   },
   "moveMenuLeft": true,
   "nav_menu": {
    "height": "14px",
    "width": "254px"
   },
   "navigate_menu": true,
   "number_sections": true,
   "sideBar": true,
   "threshold": 4,
   "toc_cell": false,
   "toc_section_display": "block",
   "toc_window_display": false
  }
 },
 "nbformat": 4,
 "nbformat_minor": 0
}
