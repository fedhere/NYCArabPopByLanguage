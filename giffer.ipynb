{
 "cells": [
  {
   "cell_type": "code",
   "execution_count": 8,
   "metadata": {
    "ExecuteTime": {
     "end_time": "2017-02-25T18:09:15.838103",
     "start_time": "2017-02-25T18:09:15.825292"
    },
    "collapsed": false,
    "run_control": {
     "frozen": false,
     "read_only": false
    }
   },
   "outputs": [],
   "source": [
    "import pylab as pl\n",
    "from scipy import misc\n",
    "import os"
   ]
  },
  {
   "cell_type": "code",
   "execution_count": 12,
   "metadata": {
    "ExecuteTime": {
     "end_time": "2017-02-25T19:20:05.738662",
     "start_time": "2017-02-25T19:20:05.029967"
    },
    "collapsed": true,
    "run_control": {
     "frozen": false,
     "read_only": false
    }
   },
   "outputs": [],
   "source": [
    "\n",
    "image1 = misc.imread(\"ArabByLanguage10.png\")/255.\n",
    "image2 = misc.imread(\"ArabByLanguage15.png\")/255.\n",
    " "
   ]
  },
  {
   "cell_type": "code",
   "execution_count": 13,
   "metadata": {
    "ExecuteTime": {
     "end_time": "2017-02-25T19:20:21.500486",
     "start_time": "2017-02-25T19:20:11.814727"
    },
    "collapsed": false,
    "scrolled": false
   },
   "outputs": [],
   "source": [
    "for i in range (0,101, 10):\n",
    "    ax = pl.figure(figsize=(20,20)).add_subplot(111)\n",
    "    pl.imshow(image2 * (i/100.) + image1 * ((100 - i)/100.))    \n",
    "    ax.axis('off')\n",
    "    pl.savefig(\"forgif/Atimeline%03d.png\"%i)"
   ]
  },
  {
   "cell_type": "code",
   "execution_count": 16,
   "metadata": {
    "ExecuteTime": {
     "end_time": "2017-02-25T19:22:56.102752",
     "start_time": "2017-02-25T19:22:40.530680"
    },
    "collapsed": false,
    "scrolled": false
   },
   "outputs": [],
   "source": [
    "image1 = misc.imread(\"ArabCountByLanguage10.png\")/255.\n",
    "image2 = misc.imread(\"ArabCountByLanguage15.png\")/255.\n",
    "for i in range (0,101,10):\n",
    "    ax = pl.figure(figsize=(20,20)).add_subplot(111)\n",
    "    pl.imshow(image2 * (i/100.) + image1 * ((100 - i)/100.))    \n",
    "    ax.axis('off')\n",
    "    pl.savefig(\"forgif/AtimelineCount%03d.png\"%i)"
   ]
  },
  {
   "cell_type": "code",
   "execution_count": 5,
   "metadata": {
    "ExecuteTime": {
     "end_time": "2017-02-25T18:03:19.429193",
     "start_time": "2017-02-25T17:57:42.480578"
    },
    "collapsed": false
   },
   "outputs": [],
   "source": [
    "image1 = misc.imread(\"fraction4Languages10.png\")/255.\n",
    "image2 = misc.imread(\"fraction4Languages15.png\")/255.\n",
    "for i in range (0,101):\n",
    "    ax = pl.figure(figsize=(20,20)).add_subplot(111)\n",
    "    pl.imshow(image2 * (i/100.) + image1 * ((100 - i)/100.))    \n",
    "    ax.axis('off')\n",
    "    pl.savefig(\"forgif/fracton4Lang%03d.png\"%i)"
   ]
  },
  {
   "cell_type": "markdown",
   "metadata": {},
   "source": [
    "# make gifs\n",
    "## Fraction gifs"
   ]
  },
  {
   "cell_type": "code",
   "execution_count": 14,
   "metadata": {
    "ExecuteTime": {
     "end_time": "2017-02-25T19:21:27.734353",
     "start_time": "2017-02-25T19:20:22.746081"
    },
    "collapsed": false
   },
   "outputs": [
    {
     "data": {
      "text/plain": [
       "512"
      ]
     },
     "execution_count": 14,
     "metadata": {},
     "output_type": "execute_result"
    }
   ],
   "source": [
    "os.system(\"convert -loop 0 forgif/Atimeline???.png ArabFractiontimeline.gif\")"
   ]
  },
  {
   "cell_type": "markdown",
   "metadata": {
    "ExecuteTime": {
     "end_time": "2017-02-25T18:07:43.286390",
     "start_time": "2017-02-25T18:07:43.171887"
    }
   },
   "source": [
    "## Count gif"
   ]
  },
  {
   "cell_type": "code",
   "execution_count": 10,
   "metadata": {
    "ExecuteTime": {
     "end_time": "2017-02-25T18:12:56.550431",
     "start_time": "2017-02-25T18:10:53.929669"
    },
    "collapsed": false
   },
   "outputs": [
    {
     "data": {
      "text/plain": [
       "0"
      ]
     },
     "execution_count": 10,
     "metadata": {},
     "output_type": "execute_result"
    }
   ],
   "source": [
    "os.system(\"convert -loop 0 forgif/Atimeline???.png ArabCounttimeline.gif\")"
   ]
  },
  {
   "cell_type": "markdown",
   "metadata": {},
   "source": [
    "## Fraction 4 languages gif"
   ]
  },
  {
   "cell_type": "code",
   "execution_count": 11,
   "metadata": {
    "ExecuteTime": {
     "end_time": "2017-02-25T18:15:15.976354",
     "start_time": "2017-02-25T18:12:56.564162"
    },
    "collapsed": false
   },
   "outputs": [
    {
     "data": {
      "text/plain": [
       "0"
      ]
     },
     "execution_count": 11,
     "metadata": {},
     "output_type": "execute_result"
    }
   ],
   "source": [
    "os.system(\"convert -loop 0 forgif/fracton4Lang???.png fraction4Languagestimeline.gif\")"
   ]
  },
  {
   "cell_type": "code",
   "execution_count": null,
   "metadata": {
    "collapsed": true
   },
   "outputs": [],
   "source": []
  }
 ],
 "metadata": {
  "kernelspec": {
   "display_name": "Python [default]",
   "language": "python",
   "name": "python2"
  },
  "language_info": {
   "codemirror_mode": {
    "name": "ipython",
    "version": 2
   },
   "file_extension": ".py",
   "mimetype": "text/x-python",
   "name": "python",
   "nbconvert_exporter": "python",
   "pygments_lexer": "ipython2",
   "version": "2.7.12"
  },
  "toc": {
   "colors": {
    "hover_highlight": "#DAA520",
    "running_highlight": "#FF0000",
    "selected_highlight": "#FFD700"
   },
   "moveMenuLeft": true,
   "nav_menu": {
    "height": "14px",
    "width": "254px"
   },
   "navigate_menu": true,
   "number_sections": true,
   "sideBar": true,
   "threshold": 4,
   "toc_cell": false,
   "toc_section_display": "block",
   "toc_window_display": false
  }
 },
 "nbformat": 4,
 "nbformat_minor": 0
}
