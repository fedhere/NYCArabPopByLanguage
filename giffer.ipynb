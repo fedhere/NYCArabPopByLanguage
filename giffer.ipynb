{
 "cells": [
  {
   "cell_type": "code",
   "execution_count": 8,
   "metadata": {
    "ExecuteTime": {
     "end_time": "2017-02-25T18:09:15.838103",
     "start_time": "2017-02-25T18:09:15.825292"
    },
    "collapsed": false,
    "run_control": {
     "frozen": false,
     "read_only": false
    }
   },
   "outputs": [],
   "source": [
    "import pylab as pl\n",
    "from scipy import misc\n",
    "import os"
   ]
  },
  {
   "cell_type": "code",
   "execution_count": 17,
   "metadata": {
    "ExecuteTime": {
     "end_time": "2017-02-25T19:23:20.027628",
     "start_time": "2017-02-25T19:23:19.647312"
    },
    "collapsed": true,
    "run_control": {
     "frozen": false,
     "read_only": false
    }
   },
   "outputs": [],
   "source": [
    "\n",
    "image1 = misc.imread(\"ArabByLanguage10.png\")/255.\n",
    "image2 = misc.imread(\"ArabByLanguage15.png\")/255.\n",
    " "
   ]
  },
  {
   "cell_type": "code",
   "execution_count": null,
   "metadata": {
    "ExecuteTime": {
     "start_time": "2017-02-26T00:40:56.868Z"
    },
    "collapsed": false,
    "scrolled": false
   },
   "outputs": [],
   "source": [
    "os.system(\"rm forgif/Atimeline???.png\")\n",
    "for i in range (0,101, 3):\n",
    "    ax = pl.figure(figsize=(20,20)).add_subplot(111)\n",
    "    pl.imshow(image2 * (i/100.) + image1 * ((100 - i)/100.))    \n",
    "    ax.axis('off')\n",
    "    pl.savefig(\"forgif/Atimeline%03d.png\"%i)"
   ]
  },
  {
   "cell_type": "code",
   "execution_count": null,
   "metadata": {
    "ExecuteTime": {
     "start_time": "2017-02-26T00:40:57.873Z"
    },
    "collapsed": false,
    "scrolled": false
   },
   "outputs": [],
   "source": [
    "image1 = misc.imread(\"ArabCountByLanguage10.png\")/255.\n",
    "image2 = misc.imread(\"ArabCountByLanguage15.png\")/255.\n",
    "os.system(\"rm forgif/AtimelineCount???.png\")\n",
    "for i in range (0,101,3):\n",
    "    ax = pl.figure(figsize=(20,20)).add_subplot(111)\n",
    "    pl.imshow(image2 * (i/100.) + image1 * ((100 - i)/100.))    \n",
    "    ax.axis('off')\n",
    "    pl.savefig(\"forgif/AtimelineCount%03d.png\"%i)"
   ]
  },
  {
   "cell_type": "code",
   "execution_count": null,
   "metadata": {
    "ExecuteTime": {
     "start_time": "2017-02-26T00:40:59.435Z"
    },
    "collapsed": false
   },
   "outputs": [],
   "source": [
    "image1 = misc.imread(\"fraction4Languages10.png\")/255.\n",
    "image2 = misc.imread(\"fraction4Languages15.png\")/255.\n",
    "os.system(\"rm forgif/fracton4Lang???.png\")\n",
    "for i in range (0,101, 3):\n",
    "    ax = pl.figure(figsize=(20,20)).add_subplot(111)\n",
    "    pl.imshow(image2 * (i/100.) + image1 * ((100 - i)/100.))    \n",
    "    ax.axis('off')\n",
    "    pl.savefig(\"forgif/fracton4Lang%03d.png\"%i)"
   ]
  },
  {
   "cell_type": "markdown",
   "metadata": {},
   "source": [
    "# make gifs\n",
    "## Fraction gifs"
   ]
  },
  {
   "cell_type": "code",
   "execution_count": 20,
   "metadata": {
    "ExecuteTime": {
     "end_time": "2017-02-25T19:24:41.431914",
     "start_time": "2017-02-25T19:24:27.700470"
    },
    "collapsed": false
   },
   "outputs": [
    {
     "data": {
      "text/plain": [
       "0"
      ]
     },
     "execution_count": 20,
     "metadata": {},
     "output_type": "execute_result"
    }
   ],
   "source": [
    "os.system(\"convert -loop 0 forgif/Atimeline???.png ArabFractiontimeline.gif\")"
   ]
  },
  {
   "cell_type": "markdown",
   "metadata": {
    "ExecuteTime": {
     "end_time": "2017-02-25T18:07:43.286390",
     "start_time": "2017-02-25T18:07:43.171887"
    }
   },
   "source": [
    "## Count gif"
   ]
  },
  {
   "cell_type": "code",
   "execution_count": 21,
   "metadata": {
    "ExecuteTime": {
     "end_time": "2017-02-25T19:24:53.978760",
     "start_time": "2017-02-25T19:24:41.434939"
    },
    "collapsed": false
   },
   "outputs": [
    {
     "data": {
      "text/plain": [
       "0"
      ]
     },
     "execution_count": 21,
     "metadata": {},
     "output_type": "execute_result"
    }
   ],
   "source": [
    "os.system(\"convert -loop 0 forgif/Atimeline???.png ArabCounttimeline.gif\")"
   ]
  },
  {
   "cell_type": "markdown",
   "metadata": {},
   "source": [
    "## Fraction 4 languages gif"
   ]
  },
  {
   "cell_type": "code",
   "execution_count": 22,
   "metadata": {
    "ExecuteTime": {
     "end_time": "2017-02-25T19:25:12.377346",
     "start_time": "2017-02-25T19:24:53.981946"
    },
    "collapsed": false
   },
   "outputs": [
    {
     "data": {
      "text/plain": [
       "0"
      ]
     },
     "execution_count": 22,
     "metadata": {},
     "output_type": "execute_result"
    }
   ],
   "source": [
    "os.system(\"convert -loop 0 forgif/fracton4Lang???.png fraction4Languagestimeline.gif\")"
   ]
  },
  {
   "cell_type": "code",
   "execution_count": null,
   "metadata": {
    "collapsed": true
   },
   "outputs": [],
   "source": []
  }
 ],
 "metadata": {
  "kernelspec": {
   "display_name": "Python [default]",
   "language": "python",
   "name": "python2"
  },
  "language_info": {
   "codemirror_mode": {
    "name": "ipython",
    "version": 2
   },
   "file_extension": ".py",
   "mimetype": "text/x-python",
   "name": "python",
   "nbconvert_exporter": "python",
   "pygments_lexer": "ipython2",
   "version": "2.7.12"
  },
  "toc": {
   "colors": {
    "hover_highlight": "#DAA520",
    "running_highlight": "#FF0000",
    "selected_highlight": "#FFD700"
   },
   "moveMenuLeft": true,
   "nav_menu": {
    "height": "14px",
    "width": "254px"
   },
   "navigate_menu": true,
   "number_sections": true,
   "sideBar": true,
   "threshold": 4,
   "toc_cell": false,
   "toc_section_display": "block",
   "toc_window_display": false
  }
 },
 "nbformat": 4,
 "nbformat_minor": 0
}
